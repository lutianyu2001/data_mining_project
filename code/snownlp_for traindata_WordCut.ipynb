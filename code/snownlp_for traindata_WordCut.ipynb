{
 "cells": [
  {
   "cell_type": "code",
   "execution_count": 1,
   "metadata": {},
   "outputs": [],
   "source": [
    "from snownlp import SnowNLP\n",
    "from snownlp import sentiment\n",
    "from sklearn import metrics"
   ]
  },
  {
   "cell_type": "code",
   "execution_count": 2,
   "metadata": {},
   "outputs": [],
   "source": [
    "import pandas as pd\n",
    "from pandas import DataFrame"
   ]
  },
  {
   "cell_type": "code",
   "execution_count": 3,
   "metadata": {},
   "outputs": [],
   "source": [
    "def get_sentiment_cn(text):\n",
    "    s = SnowNLP(text)\n",
    "    return s.sentiments"
   ]
  },
  {
   "cell_type": "code",
   "execution_count": 4,
   "metadata": {},
   "outputs": [
    {
     "data": {
      "text/html": [
       "<div>\n",
       "<style scoped>\n",
       "    .dataframe tbody tr th:only-of-type {\n",
       "        vertical-align: middle;\n",
       "    }\n",
       "\n",
       "    .dataframe tbody tr th {\n",
       "        vertical-align: top;\n",
       "    }\n",
       "\n",
       "    .dataframe thead th {\n",
       "        text-align: right;\n",
       "    }\n",
       "</style>\n",
       "<table border=\"1\" class=\"dataframe\">\n",
       "  <thead>\n",
       "    <tr style=\"text-align: right;\">\n",
       "      <th></th>\n",
       "      <th>text</th>\n",
       "      <th>label</th>\n",
       "    </tr>\n",
       "  </thead>\n",
       "  <tbody>\n",
       "    <tr>\n",
       "      <th>0</th>\n",
       "      <td>﻿更博了，爆照了，帅的呀，就是越来越爱你！生快傻缺[爱你][爱你][爱你]</td>\n",
       "      <td>1</td>\n",
       "    </tr>\n",
       "    <tr>\n",
       "      <th>1</th>\n",
       "      <td>土耳其的事要认真对待[哈哈]，否则直接开除 很是细心，酒店都全部OK啦。</td>\n",
       "      <td>1</td>\n",
       "    </tr>\n",
       "    <tr>\n",
       "      <th>2</th>\n",
       "      <td>姑娘都羡慕你呢…还有招财猫高兴……[哈哈]小学徒一枚，等着明天见您呢大佬范儿[书呆子]</td>\n",
       "      <td>1</td>\n",
       "    </tr>\n",
       "    <tr>\n",
       "      <th>3</th>\n",
       "      <td>美~~~~~[爱你]</td>\n",
       "      <td>1</td>\n",
       "    </tr>\n",
       "    <tr>\n",
       "      <th>4</th>\n",
       "      <td>梦想有多大，舞台就有多大![鼓掌]</td>\n",
       "      <td>1</td>\n",
       "    </tr>\n",
       "    <tr>\n",
       "      <th>...</th>\n",
       "      <td>...</td>\n",
       "      <td>...</td>\n",
       "    </tr>\n",
       "    <tr>\n",
       "      <th>119936</th>\n",
       "      <td>一公里不到，县医院那个天桥下右拐200米就到了！ 我靠。这个太霸道了！离224有好远？ 这个...</td>\n",
       "      <td>0</td>\n",
       "    </tr>\n",
       "    <tr>\n",
       "      <th>119937</th>\n",
       "      <td>今天真冷啊，难道又要穿棉袄了[晕]？今年的春天真的是百变莫测啊[抓狂]</td>\n",
       "      <td>0</td>\n",
       "    </tr>\n",
       "    <tr>\n",
       "      <th>119938</th>\n",
       "      <td>最近几天就没停止过！！！[伤心]</td>\n",
       "      <td>0</td>\n",
       "    </tr>\n",
       "    <tr>\n",
       "      <th>119939</th>\n",
       "      <td>[怒] 很惨!</td>\n",
       "      <td>0</td>\n",
       "    </tr>\n",
       "    <tr>\n",
       "      <th>119940</th>\n",
       "      <td>呢? ？！[抓狂] ?搞乜鬼？？！！想知？入去GOtrip睇睇：</td>\n",
       "      <td>0</td>\n",
       "    </tr>\n",
       "  </tbody>\n",
       "</table>\n",
       "<p>119941 rows × 2 columns</p>\n",
       "</div>"
      ],
      "text/plain": [
       "                                                     text  label\n",
       "0                   ﻿更博了，爆照了，帅的呀，就是越来越爱你！生快傻缺[爱你][爱你][爱你]      1\n",
       "1                    土耳其的事要认真对待[哈哈]，否则直接开除 很是细心，酒店都全部OK啦。      1\n",
       "2             姑娘都羡慕你呢…还有招财猫高兴……[哈哈]小学徒一枚，等着明天见您呢大佬范儿[书呆子]      1\n",
       "3                                              美~~~~~[爱你]      1\n",
       "4                                       梦想有多大，舞台就有多大![鼓掌]      1\n",
       "...                                                   ...    ...\n",
       "119936  一公里不到，县医院那个天桥下右拐200米就到了！ 我靠。这个太霸道了！离224有好远？ 这个...      0\n",
       "119937                今天真冷啊，难道又要穿棉袄了[晕]？今年的春天真的是百变莫测啊[抓狂]      0\n",
       "119938                                   最近几天就没停止过！！！[伤心]      0\n",
       "119939                                            [怒] 很惨!      0\n",
       "119940                 呢? ？！[抓狂] ?搞乜鬼？？！！想知？入去GOtrip睇睇：        0\n",
       "\n",
       "[119941 rows x 2 columns]"
      ]
     },
     "metadata": {},
     "output_type": "display_data"
    }
   ],
   "source": [
    "pd_all = pd.read_csv(\"train_data_WordCut.csv\")\n",
    "display(pd_all)"
   ]
  },
  {
   "cell_type": "code",
   "execution_count": 5,
   "metadata": {},
   "outputs": [
    {
     "data": {
      "text/html": [
       "<div>\n",
       "<style scoped>\n",
       "    .dataframe tbody tr th:only-of-type {\n",
       "        vertical-align: middle;\n",
       "    }\n",
       "\n",
       "    .dataframe tbody tr th {\n",
       "        vertical-align: top;\n",
       "    }\n",
       "\n",
       "    .dataframe thead th {\n",
       "        text-align: right;\n",
       "    }\n",
       "</style>\n",
       "<table border=\"1\" class=\"dataframe\">\n",
       "  <thead>\n",
       "    <tr style=\"text-align: right;\">\n",
       "      <th></th>\n",
       "      <th>text</th>\n",
       "      <th>label</th>\n",
       "    </tr>\n",
       "  </thead>\n",
       "  <tbody>\n",
       "    <tr>\n",
       "      <th>0</th>\n",
       "      <td>﻿更博了，爆照了，帅的呀，就是越来越爱你！生快傻缺[爱你][爱你][爱你]</td>\n",
       "      <td>1</td>\n",
       "    </tr>\n",
       "    <tr>\n",
       "      <th>1</th>\n",
       "      <td>土耳其的事要认真对待[哈哈]，否则直接开除 很是细心，酒店都全部OK啦。</td>\n",
       "      <td>1</td>\n",
       "    </tr>\n",
       "    <tr>\n",
       "      <th>2</th>\n",
       "      <td>姑娘都羡慕你呢…还有招财猫高兴……[哈哈]小学徒一枚，等着明天见您呢大佬范儿[书呆子]</td>\n",
       "      <td>1</td>\n",
       "    </tr>\n",
       "    <tr>\n",
       "      <th>3</th>\n",
       "      <td>美~~~~~[爱你]</td>\n",
       "      <td>1</td>\n",
       "    </tr>\n",
       "    <tr>\n",
       "      <th>4</th>\n",
       "      <td>梦想有多大，舞台就有多大![鼓掌]</td>\n",
       "      <td>1</td>\n",
       "    </tr>\n",
       "    <tr>\n",
       "      <th>...</th>\n",
       "      <td>...</td>\n",
       "      <td>...</td>\n",
       "    </tr>\n",
       "    <tr>\n",
       "      <th>59961</th>\n",
       "      <td>好吃好看好开心[嘻嘻] 我在这里:</td>\n",
       "      <td>1</td>\n",
       "    </tr>\n",
       "    <tr>\n",
       "      <th>59962</th>\n",
       "      <td>这是按照什么标准评选的？ [哈哈]班夫露易丝湖滑雪场刚刚被评为全加拿大最佳滑雪场TOP1殊荣...</td>\n",
       "      <td>1</td>\n",
       "    </tr>\n",
       "    <tr>\n",
       "      <th>59963</th>\n",
       "      <td>必?承?，我的相?在hold大?面的能力著?不如中近景啊！昨?被拉去?任替?照相的心得。不?...</td>\n",
       "      <td>1</td>\n",
       "    </tr>\n",
       "    <tr>\n",
       "      <th>59964</th>\n",
       "      <td>叫同学可能更好一点！[嘻嘻][嘻嘻]赐教不敢！分享可以：吃货分几个阶段第1阶段：爱吃（什么都...</td>\n",
       "      <td>1</td>\n",
       "    </tr>\n",
       "    <tr>\n",
       "      <th>59965</th>\n",
       "      <td>回复</td>\n",
       "      <td>1</td>\n",
       "    </tr>\n",
       "  </tbody>\n",
       "</table>\n",
       "<p>59966 rows × 2 columns</p>\n",
       "</div>"
      ],
      "text/plain": [
       "                                                    text  label\n",
       "0                  ﻿更博了，爆照了，帅的呀，就是越来越爱你！生快傻缺[爱你][爱你][爱你]      1\n",
       "1                   土耳其的事要认真对待[哈哈]，否则直接开除 很是细心，酒店都全部OK啦。      1\n",
       "2            姑娘都羡慕你呢…还有招财猫高兴……[哈哈]小学徒一枚，等着明天见您呢大佬范儿[书呆子]      1\n",
       "3                                             美~~~~~[爱你]      1\n",
       "4                                      梦想有多大，舞台就有多大![鼓掌]      1\n",
       "...                                                  ...    ...\n",
       "59961                                 好吃好看好开心[嘻嘻] 我在这里:       1\n",
       "59962  这是按照什么标准评选的？ [哈哈]班夫露易丝湖滑雪场刚刚被评为全加拿大最佳滑雪场TOP1殊荣...      1\n",
       "59963  必?承?，我的相?在hold大?面的能力著?不如中近景啊！昨?被拉去?任替?照相的心得。不?...      1\n",
       "59964  叫同学可能更好一点！[嘻嘻][嘻嘻]赐教不敢！分享可以：吃货分几个阶段第1阶段：爱吃（什么都...      1\n",
       "59965                                                回复       1\n",
       "\n",
       "[59966 rows x 2 columns]"
      ]
     },
     "metadata": {},
     "output_type": "display_data"
    }
   ],
   "source": [
    "display(pd_all[pd_all.label==1])"
   ]
  },
  {
   "cell_type": "code",
   "execution_count": 6,
   "metadata": {},
   "outputs": [
    {
     "data": {
      "text/html": [
       "<div>\n",
       "<style scoped>\n",
       "    .dataframe tbody tr th:only-of-type {\n",
       "        vertical-align: middle;\n",
       "    }\n",
       "\n",
       "    .dataframe tbody tr th {\n",
       "        vertical-align: top;\n",
       "    }\n",
       "\n",
       "    .dataframe thead th {\n",
       "        text-align: right;\n",
       "    }\n",
       "</style>\n",
       "<table border=\"1\" class=\"dataframe\">\n",
       "  <thead>\n",
       "    <tr style=\"text-align: right;\">\n",
       "      <th></th>\n",
       "      <th>text</th>\n",
       "      <th>label</th>\n",
       "    </tr>\n",
       "  </thead>\n",
       "  <tbody>\n",
       "    <tr>\n",
       "      <th>59966</th>\n",
       "      <td>﻿哈哈  哈哈哈哈，太罪恶了啊！以后叫外卖回家捞吧！不过...某人今天和你一样[泪]！</td>\n",
       "      <td>0</td>\n",
       "    </tr>\n",
       "    <tr>\n",
       "      <th>59967</th>\n",
       "      <td>今年赶上沙尘暴没？我离开的那天，不能呼吸，我能拍照，不敢说话，黑城在风沙中被淹没[衰] 醉美...</td>\n",
       "      <td>0</td>\n",
       "    </tr>\n",
       "    <tr>\n",
       "      <th>59968</th>\n",
       "      <td>这是带头要让人民币升值啊！ 充值面额目前支持 50元，100元，300元 和 500元 ！ ...</td>\n",
       "      <td>0</td>\n",
       "    </tr>\n",
       "    <tr>\n",
       "      <th>59969</th>\n",
       "      <td>[蜡烛] [蜡烛]  [蜡烛] [蜡烛] [蜡烛][蜡烛] 据最新线报，保安张师傅昨天下午去...</td>\n",
       "      <td>0</td>\n",
       "    </tr>\n",
       "    <tr>\n",
       "      <th>59970</th>\n",
       "      <td>邻居妈妈有两个孩子，男宝宝好像是四岁了，经常喜欢在他妈妈开门的时候学着样子来敲我家的门，好几...</td>\n",
       "      <td>0</td>\n",
       "    </tr>\n",
       "    <tr>\n",
       "      <th>...</th>\n",
       "      <td>...</td>\n",
       "      <td>...</td>\n",
       "    </tr>\n",
       "    <tr>\n",
       "      <th>119936</th>\n",
       "      <td>一公里不到，县医院那个天桥下右拐200米就到了！ 我靠。这个太霸道了！离224有好远？ 这个...</td>\n",
       "      <td>0</td>\n",
       "    </tr>\n",
       "    <tr>\n",
       "      <th>119937</th>\n",
       "      <td>今天真冷啊，难道又要穿棉袄了[晕]？今年的春天真的是百变莫测啊[抓狂]</td>\n",
       "      <td>0</td>\n",
       "    </tr>\n",
       "    <tr>\n",
       "      <th>119938</th>\n",
       "      <td>最近几天就没停止过！！！[伤心]</td>\n",
       "      <td>0</td>\n",
       "    </tr>\n",
       "    <tr>\n",
       "      <th>119939</th>\n",
       "      <td>[怒] 很惨!</td>\n",
       "      <td>0</td>\n",
       "    </tr>\n",
       "    <tr>\n",
       "      <th>119940</th>\n",
       "      <td>呢? ？！[抓狂] ?搞乜鬼？？！！想知？入去GOtrip睇睇：</td>\n",
       "      <td>0</td>\n",
       "    </tr>\n",
       "  </tbody>\n",
       "</table>\n",
       "<p>59975 rows × 2 columns</p>\n",
       "</div>"
      ],
      "text/plain": [
       "                                                     text  label\n",
       "59966        ﻿哈哈  哈哈哈哈，太罪恶了啊！以后叫外卖回家捞吧！不过...某人今天和你一样[泪]！       0\n",
       "59967   今年赶上沙尘暴没？我离开的那天，不能呼吸，我能拍照，不敢说话，黑城在风沙中被淹没[衰] 醉美...      0\n",
       "59968   这是带头要让人民币升值啊！ 充值面额目前支持 50元，100元，300元 和 500元 ！ ...      0\n",
       "59969   [蜡烛] [蜡烛]  [蜡烛] [蜡烛] [蜡烛][蜡烛] 据最新线报，保安张师傅昨天下午去...      0\n",
       "59970   邻居妈妈有两个孩子，男宝宝好像是四岁了，经常喜欢在他妈妈开门的时候学着样子来敲我家的门，好几...      0\n",
       "...                                                   ...    ...\n",
       "119936  一公里不到，县医院那个天桥下右拐200米就到了！ 我靠。这个太霸道了！离224有好远？ 这个...      0\n",
       "119937                今天真冷啊，难道又要穿棉袄了[晕]？今年的春天真的是百变莫测啊[抓狂]      0\n",
       "119938                                   最近几天就没停止过！！！[伤心]      0\n",
       "119939                                            [怒] 很惨!      0\n",
       "119940                 呢? ？！[抓狂] ?搞乜鬼？？！！想知？入去GOtrip睇睇：        0\n",
       "\n",
       "[59975 rows x 2 columns]"
      ]
     },
     "metadata": {},
     "output_type": "display_data"
    }
   ],
   "source": [
    "display(pd_all[pd_all.label==0])"
   ]
  },
  {
   "cell_type": "code",
   "execution_count": null,
   "metadata": {},
   "outputs": [],
   "source": [
    "pd_all[\"sentiment\"] = pd_all.text.apply(get_sentiment_cn)"
   ]
  },
  {
   "cell_type": "code",
   "execution_count": null,
   "metadata": {},
   "outputs": [],
   "source": [
    "display(pd_all)"
   ]
  },
  {
   "cell_type": "code",
   "execution_count": null,
   "metadata": {},
   "outputs": [],
   "source": [
    "pd_all.sort_values(['sentiment'])[:1]"
   ]
  },
  {
   "cell_type": "code",
   "execution_count": null,
   "metadata": {},
   "outputs": [],
   "source": [
    "print(pd_all.sort_values(['sentiment']).iloc[0].text)"
   ]
  },
  {
   "cell_type": "code",
   "execution_count": null,
   "metadata": {},
   "outputs": [],
   "source": [
    "pd_all.sentiment.mean()"
   ]
  },
  {
   "cell_type": "code",
   "execution_count": null,
   "metadata": {},
   "outputs": [],
   "source": [
    "pd_all.sentiment.median()"
   ]
  },
  {
   "cell_type": "code",
   "execution_count": null,
   "metadata": {},
   "outputs": [],
   "source": [
    "pd_all[\"predict\"] = None\n",
    "pd_all.loc[pd_all['sentiment'] >= 0.5, \"predict\"] = 1\n",
    "pd_all.loc[pd_all['sentiment'] < 0.5, \"predict\"] = 0"
   ]
  },
  {
   "cell_type": "code",
   "execution_count": null,
   "metadata": {},
   "outputs": [],
   "source": [
    "display(pd_all)"
   ]
  },
  {
   "cell_type": "code",
   "execution_count": null,
   "metadata": {},
   "outputs": [],
   "source": [
    "label = pd_all[['label']]"
   ]
  },
  {
   "cell_type": "code",
   "execution_count": null,
   "metadata": {},
   "outputs": [],
   "source": [
    "display(label)"
   ]
  },
  {
   "cell_type": "code",
   "execution_count": null,
   "metadata": {},
   "outputs": [],
   "source": [
    "predict = pd_all[['predict']]"
   ]
  },
  {
   "cell_type": "code",
   "execution_count": null,
   "metadata": {},
   "outputs": [],
   "source": [
    "display(predict)"
   ]
  },
  {
   "cell_type": "code",
   "execution_count": null,
   "metadata": {},
   "outputs": [],
   "source": [
    "test_f1score = metrics.f1_score(label,predict,average=\"micro\")"
   ]
  },
  {
   "cell_type": "code",
   "execution_count": null,
   "metadata": {},
   "outputs": [],
   "source": [
    "print(test_f1score)"
   ]
  },
  {
   "cell_type": "code",
   "execution_count": null,
   "metadata": {},
   "outputs": [],
   "source": [
    "test_report = metrics.classification_report(y_test, y_pred)\n",
    "print(test_report)"
   ]
  },
  {
   "cell_type": "code",
   "execution_count": null,
   "metadata": {},
   "outputs": [],
   "source": []
  }
 ],
 "metadata": {
  "kernelspec": {
   "display_name": "Python 3",
   "language": "python",
   "name": "python3"
  },
  "language_info": {
   "codemirror_mode": {
    "name": "ipython",
    "version": 3
   },
   "file_extension": ".py",
   "mimetype": "text/x-python",
   "name": "python",
   "nbconvert_exporter": "python",
   "pygments_lexer": "ipython3",
   "version": "3.8.5"
  }
 },
 "nbformat": 4,
 "nbformat_minor": 4
}
