{
 "cells": [
  {
   "cell_type": "code",
   "execution_count": 1,
   "id": "120c7e54",
   "metadata": {},
   "outputs": [],
   "source": [
    "import pandas as pd\n",
    "import os"
   ]
  },
  {
   "cell_type": "code",
   "execution_count": 2,
   "id": "5d955732",
   "metadata": {},
   "outputs": [
    {
     "data": {
      "text/plain": [
       "'C:\\\\Users\\\\UIC\\\\y3s1\\\\dm\\\\group'"
      ]
     },
     "execution_count": 2,
     "metadata": {},
     "output_type": "execute_result"
    }
   ],
   "source": [
    "os.getcwd()"
   ]
  },
  {
   "cell_type": "code",
   "execution_count": 3,
   "id": "8d4ee13e",
   "metadata": {},
   "outputs": [],
   "source": [
    "os.chdir(\"dataset\")"
   ]
  },
  {
   "cell_type": "code",
   "execution_count": 4,
   "id": "cccdb5a5",
   "metadata": {},
   "outputs": [],
   "source": [
    "test=pd.DataFrame()\n",
    "for i in os.listdir():\n",
    "    x0=pd.read_json(i,orient='records')\n",
    "    x1=pd.DataFrame(x0)\n",
    "    test=test.append(x1)"
   ]
  },
  {
   "cell_type": "code",
   "execution_count": 5,
   "id": "26db23ac",
   "metadata": {},
   "outputs": [],
   "source": [
    "test = test[test['content'] != '转发微博']\n",
    "test = test[['content','timestamp']]"
   ]
  },
  {
   "cell_type": "code",
   "execution_count": 6,
   "id": "64b40962",
   "metadata": {},
   "outputs": [],
   "source": [
    "os.chdir(\"C:\\\\Users\\\\UIC\\\\y3s1\\\\dm\\\\group\")"
   ]
  },
  {
   "cell_type": "code",
   "execution_count": 7,
   "id": "3da6ce19",
   "metadata": {},
   "outputs": [
    {
     "data": {
      "text/html": [
       "<div>\n",
       "<style scoped>\n",
       "    .dataframe tbody tr th:only-of-type {\n",
       "        vertical-align: middle;\n",
       "    }\n",
       "\n",
       "    .dataframe tbody tr th {\n",
       "        vertical-align: top;\n",
       "    }\n",
       "\n",
       "    .dataframe thead th {\n",
       "        text-align: right;\n",
       "    }\n",
       "</style>\n",
       "<table border=\"1\" class=\"dataframe\">\n",
       "  <thead>\n",
       "    <tr style=\"text-align: right;\">\n",
       "      <th></th>\n",
       "      <th>content</th>\n",
       "      <th>timestamp</th>\n",
       "    </tr>\n",
       "  </thead>\n",
       "  <tbody>\n",
       "    <tr>\n",
       "      <th>1</th>\n",
       "      <td>哈哈哈哈哈哈哈确实是，我们有宝藏他们没有！//@47821890237:我们有钟院士 你们没...</td>\n",
       "      <td>2020-03-12 01:41:00</td>\n",
       "    </tr>\n",
       "    <tr>\n",
       "      <th>2</th>\n",
       "      <td>（二）真诚的认为遇上你是我的缘</td>\n",
       "      <td>2020-03-12 01:41:00</td>\n",
       "    </tr>\n",
       "    <tr>\n",
       "      <th>7</th>\n",
       "      <td>#欧洲求助钟南山#人都是思变的动物，天仙美眷女人也留不住完整一世的爱!</td>\n",
       "      <td>2020-03-12 01:41:00</td>\n",
       "    </tr>\n",
       "    <tr>\n",
       "      <th>9</th>\n",
       "      <td>钟老，您就是夜空中最亮的星</td>\n",
       "      <td>2020-03-12 01:41:00</td>\n",
       "    </tr>\n",
       "    <tr>\n",
       "      <th>10</th>\n",
       "      <td>两人目光呆滞，钟南山全程英语分享中国经验走路脚跟离地，九叔一眼就看出不对劲！电影推荐电影 t...</td>\n",
       "      <td>2020-03-12 01:40:00</td>\n",
       "    </tr>\n",
       "    <tr>\n",
       "      <th>...</th>\n",
       "      <td>...</td>\n",
       "      <td>...</td>\n",
       "    </tr>\n",
       "    <tr>\n",
       "      <th>99994</th>\n",
       "      <td>上海居委会预约的口罩 质量还不错哦 四毛六一个</td>\n",
       "      <td>2020-02-13 16:58:00</td>\n",
       "    </tr>\n",
       "    <tr>\n",
       "      <th>99995</th>\n",
       "      <td>李现#李现教你如何节约口罩# lx#李现公益正能量# 演员李现带着正能量来啦，学起来@李现...</td>\n",
       "      <td>2020-02-13 16:58:00</td>\n",
       "    </tr>\n",
       "    <tr>\n",
       "      <th>99996</th>\n",
       "      <td>一次性口罩消毒后可以反复使用！您知道吗？ 2长沙·长沙县</td>\n",
       "      <td>2020-02-13 16:58:00</td>\n",
       "    </tr>\n",
       "    <tr>\n",
       "      <th>99998</th>\n",
       "      <td>//@4086222497:请正确戴口罩，节省使用。//@7185828103:【用行动“罩...</td>\n",
       "      <td>2020-02-13 16:58:00</td>\n",
       "    </tr>\n",
       "    <tr>\n",
       "      <th>99999</th>\n",
       "      <td>#战疫打卡行动#我已打卡2天，面对疫情我承诺：出门戴口罩！战胜疫情，从我做起！活动期间新浪捐...</td>\n",
       "      <td>2020-02-13 16:58:00</td>\n",
       "    </tr>\n",
       "  </tbody>\n",
       "</table>\n",
       "<p>3739385 rows × 2 columns</p>\n",
       "</div>"
      ],
      "text/plain": [
       "                                                 content           timestamp\n",
       "1      哈哈哈哈哈哈哈确实是，我们有宝藏他们没有！//@47821890237:我们有钟院士 你们没... 2020-03-12 01:41:00\n",
       "2                                        （二）真诚的认为遇上你是我的缘 2020-03-12 01:41:00\n",
       "7                    #欧洲求助钟南山#人都是思变的动物，天仙美眷女人也留不住完整一世的爱! 2020-03-12 01:41:00\n",
       "9                                          钟老，您就是夜空中最亮的星 2020-03-12 01:41:00\n",
       "10     两人目光呆滞，钟南山全程英语分享中国经验走路脚跟离地，九叔一眼就看出不对劲！电影推荐电影 t... 2020-03-12 01:40:00\n",
       "...                                                  ...                 ...\n",
       "99994                            上海居委会预约的口罩 质量还不错哦 四毛六一个 2020-02-13 16:58:00\n",
       "99995  李现#李现教你如何节约口罩# lx#李现公益正能量# 演员李现带着正能量来啦，学起来@李现... 2020-02-13 16:58:00\n",
       "99996                       一次性口罩消毒后可以反复使用！您知道吗？ 2长沙·长沙县 2020-02-13 16:58:00\n",
       "99998  //@4086222497:请正确戴口罩，节省使用。//@7185828103:【用行动“罩... 2020-02-13 16:58:00\n",
       "99999  #战疫打卡行动#我已打卡2天，面对疫情我承诺：出门戴口罩！战胜疫情，从我做起！活动期间新浪捐... 2020-02-13 16:58:00\n",
       "\n",
       "[3739385 rows x 2 columns]"
      ]
     },
     "execution_count": 7,
     "metadata": {},
     "output_type": "execute_result"
    }
   ],
   "source": [
    "test"
   ]
  },
  {
   "cell_type": "code",
   "execution_count": 8,
   "id": "a36d7b5a",
   "metadata": {},
   "outputs": [],
   "source": [
    "test.to_csv('test.csv',index=False)"
   ]
  }
 ],
 "metadata": {
  "kernelspec": {
   "display_name": "Python 3",
   "language": "python",
   "name": "python3"
  },
  "language_info": {
   "codemirror_mode": {
    "name": "ipython",
    "version": 3
   },
   "file_extension": ".py",
   "mimetype": "text/x-python",
   "name": "python",
   "nbconvert_exporter": "python",
   "pygments_lexer": "ipython3",
   "version": "3.8.8"
  }
 },
 "nbformat": 4,
 "nbformat_minor": 5
}
